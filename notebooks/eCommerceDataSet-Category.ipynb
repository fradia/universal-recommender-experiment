{
 "cells": [
  {
   "cell_type": "code",
   "execution_count": 1,
   "metadata": {},
   "outputs": [],
   "source": [
    "import pandas as pd\n",
    "import numpy as np\n",
    "import os\n",
    "import csv\n",
    "from datetime import datetime\n",
    "import pytz\n",
    "import json"
   ]
  },
  {
   "cell_type": "code",
   "execution_count": 2,
   "metadata": {},
   "outputs": [],
   "source": [
    "from matplotlib import pyplot as plt\n",
    "%matplotlib inline"
   ]
  },
  {
   "cell_type": "markdown",
   "metadata": {},
   "source": [
    "source: https://www.kaggle.com/mkechinov/ecommerce-behavior-data-from-multi-category-store?select=2019-Nov.csv"
   ]
  },
  {
   "cell_type": "code",
   "execution_count": 3,
   "metadata": {},
   "outputs": [],
   "source": [
    "data_folder = \"../data/input_data/\""
   ]
  },
  {
   "cell_type": "code",
   "execution_count": 4,
   "metadata": {},
   "outputs": [],
   "source": [
    "def info_df(df):\n",
    "    print(\"Nr. of events: {}\".format(len(df)))\n",
    "    print(\"Nr. users: {}\".format(len(df[\"user_id\"].unique())))\n",
    "    print(\"Nr. products: {}\".format(len(df[\"product_id\"].unique())))\n",
    "    print(\"Nr. categories: {}\".format(len(df[\"category_id\"].unique())))\n",
    "    print(\"Median events by user: {}\".format(np.median(df.groupby(\"user_id\")[\"product_id\"].count())))\n",
    "    print(\"Median categories by user: {}\".format(np.median(df.groupby(\"user_id\")[\"category_id\"].nunique())))"
   ]
  },
  {
   "cell_type": "code",
   "execution_count": 5,
   "metadata": {},
   "outputs": [],
   "source": [
    "df = pd.read_csv(\"../datasets/2019-Nov.csv\")"
   ]
  },
  {
   "cell_type": "code",
   "execution_count": 6,
   "metadata": {},
   "outputs": [],
   "source": [
    "# drop duplicates\n",
    "df.drop_duplicates([\"event_type\",\"product_id\",\"user_id\"], inplace=True)"
   ]
  },
  {
   "cell_type": "code",
   "execution_count": 7,
   "metadata": {},
   "outputs": [],
   "source": [
    "df_agg = df[df[\"event_type\"]==\"purchase\"].groupby(\"user_id\")[\"product_id\"].nunique().reset_index(name=\"nr_products\")\n",
    "df_agg = df_agg[df_agg[\"nr_products\"]>3] # at least 4 purchases\n",
    "df_sample = df.merge(df_agg[\"user_id\"], on=\"user_id\", how=\"inner\")"
   ]
  },
  {
   "cell_type": "code",
   "execution_count": 8,
   "metadata": {},
   "outputs": [],
   "source": [
    "#take a sample of 10.000 users\n",
    "df_sample = df_sample.merge(df_sample[\"user_id\"].drop_duplicates().head(10000), on=\"user_id\", how=\"inner\")"
   ]
  },
  {
   "cell_type": "code",
   "execution_count": 9,
   "metadata": {},
   "outputs": [
    {
     "name": "stdout",
     "output_type": "stream",
     "text": [
      "Nr. of events: 759113\n",
      "Nr. users: 10000\n",
      "Nr. products: 94698\n",
      "Nr. categories: 652\n",
      "Median events by user: 51.0\n",
      "Median categories by user: 9.0\n"
     ]
    }
   ],
   "source": [
    "info_df(df_sample)"
   ]
  },
  {
   "cell_type": "markdown",
   "metadata": {},
   "source": [
    "## Create a Test set: choose 1 purchase"
   ]
  },
  {
   "cell_type": "code",
   "execution_count": 10,
   "metadata": {},
   "outputs": [],
   "source": [
    "test = df_sample[df_sample[\"event_type\"]==\"purchase\"].groupby(\"user_id\").first().reset_index()"
   ]
  },
  {
   "cell_type": "code",
   "execution_count": 11,
   "metadata": {},
   "outputs": [
    {
     "name": "stdout",
     "output_type": "stream",
     "text": [
      "Info test set:\n",
      "\n",
      "Nr. of events: 10000\n",
      "Nr. users: 10000\n",
      "Nr. products: 4103\n",
      "Nr. categories: 370\n",
      "Median events by user: 1.0\n",
      "Median categories by user: 1.0\n"
     ]
    }
   ],
   "source": [
    "print(\"Info test set:\\n\")\n",
    "info_df(test)"
   ]
  },
  {
   "cell_type": "code",
   "execution_count": 78,
   "metadata": {},
   "outputs": [
    {
     "data": {
      "text/html": [
       "<div>\n",
       "<style scoped>\n",
       "    .dataframe tbody tr th:only-of-type {\n",
       "        vertical-align: middle;\n",
       "    }\n",
       "\n",
       "    .dataframe tbody tr th {\n",
       "        vertical-align: top;\n",
       "    }\n",
       "\n",
       "    .dataframe thead th {\n",
       "        text-align: right;\n",
       "    }\n",
       "</style>\n",
       "<table border=\"1\" class=\"dataframe\">\n",
       "  <thead>\n",
       "    <tr style=\"text-align: right;\">\n",
       "      <th></th>\n",
       "      <th>user_id</th>\n",
       "      <th>event_time</th>\n",
       "      <th>event_type</th>\n",
       "      <th>product_id</th>\n",
       "      <th>category_id</th>\n",
       "      <th>category_code</th>\n",
       "      <th>brand</th>\n",
       "      <th>price</th>\n",
       "      <th>user_session</th>\n",
       "    </tr>\n",
       "  </thead>\n",
       "  <tbody>\n",
       "    <tr>\n",
       "      <th>0</th>\n",
       "      <td>512363650</td>\n",
       "      <td>2019-11-17 13:06:16 UTC</td>\n",
       "      <td>purchase</td>\n",
       "      <td>11200419</td>\n",
       "      <td>2053013562946749253</td>\n",
       "      <td>appliances.personal.scales</td>\n",
       "      <td>maxwell</td>\n",
       "      <td>12.36</td>\n",
       "      <td>593714cc-a8b0-4d65-afab-f6e29305424d</td>\n",
       "    </tr>\n",
       "    <tr>\n",
       "      <th>1</th>\n",
       "      <td>512363895</td>\n",
       "      <td>2019-11-02 14:38:14 UTC</td>\n",
       "      <td>purchase</td>\n",
       "      <td>21405841</td>\n",
       "      <td>2053013561579406073</td>\n",
       "      <td>electronics.clocks</td>\n",
       "      <td>casio</td>\n",
       "      <td>216.48</td>\n",
       "      <td>28f5f12c-4b0b-4306-ba5a-3d22c1dc5709</td>\n",
       "    </tr>\n",
       "    <tr>\n",
       "      <th>2</th>\n",
       "      <td>512363921</td>\n",
       "      <td>2019-11-16 10:40:33 UTC</td>\n",
       "      <td>purchase</td>\n",
       "      <td>1004856</td>\n",
       "      <td>2053013555631882655</td>\n",
       "      <td>electronics.smartphone</td>\n",
       "      <td>samsung</td>\n",
       "      <td>128.42</td>\n",
       "      <td>60189f57-f6a1-4cb7-ae49-46bc1cfec632</td>\n",
       "    </tr>\n",
       "    <tr>\n",
       "      <th>3</th>\n",
       "      <td>512363973</td>\n",
       "      <td>2019-11-01 12:06:42 UTC</td>\n",
       "      <td>purchase</td>\n",
       "      <td>1004838</td>\n",
       "      <td>2053013555631882655</td>\n",
       "      <td>electronics.smartphone</td>\n",
       "      <td>oppo</td>\n",
       "      <td>178.87</td>\n",
       "      <td>f760187d-7715-42e7-b387-78e7c5ddd7d5</td>\n",
       "    </tr>\n",
       "    <tr>\n",
       "      <th>4</th>\n",
       "      <td>512364466</td>\n",
       "      <td>2019-11-16 13:49:58 UTC</td>\n",
       "      <td>purchase</td>\n",
       "      <td>20100169</td>\n",
       "      <td>2053013559473865347</td>\n",
       "      <td>furniture.bedroom.blanket</td>\n",
       "      <td>nika</td>\n",
       "      <td>82.37</td>\n",
       "      <td>dc257874-388c-4dc7-b6ed-efca7e7d9557</td>\n",
       "    </tr>\n",
       "  </tbody>\n",
       "</table>\n",
       "</div>"
      ],
      "text/plain": [
       "     user_id               event_time event_type  product_id  \\\n",
       "0  512363650  2019-11-17 13:06:16 UTC   purchase    11200419   \n",
       "1  512363895  2019-11-02 14:38:14 UTC   purchase    21405841   \n",
       "2  512363921  2019-11-16 10:40:33 UTC   purchase     1004856   \n",
       "3  512363973  2019-11-01 12:06:42 UTC   purchase     1004838   \n",
       "4  512364466  2019-11-16 13:49:58 UTC   purchase    20100169   \n",
       "\n",
       "           category_id               category_code    brand   price  \\\n",
       "0  2053013562946749253  appliances.personal.scales  maxwell   12.36   \n",
       "1  2053013561579406073          electronics.clocks    casio  216.48   \n",
       "2  2053013555631882655      electronics.smartphone  samsung  128.42   \n",
       "3  2053013555631882655      electronics.smartphone     oppo  178.87   \n",
       "4  2053013559473865347   furniture.bedroom.blanket     nika   82.37   \n",
       "\n",
       "                           user_session  \n",
       "0  593714cc-a8b0-4d65-afab-f6e29305424d  \n",
       "1  28f5f12c-4b0b-4306-ba5a-3d22c1dc5709  \n",
       "2  60189f57-f6a1-4cb7-ae49-46bc1cfec632  \n",
       "3  f760187d-7715-42e7-b387-78e7c5ddd7d5  \n",
       "4  dc257874-388c-4dc7-b6ed-efca7e7d9557  "
      ]
     },
     "execution_count": 78,
     "metadata": {},
     "output_type": "execute_result"
    }
   ],
   "source": [
    "test.head()"
   ]
  },
  {
   "cell_type": "markdown",
   "metadata": {},
   "source": [
    "### Save to csv"
   ]
  },
  {
   "cell_type": "code",
   "execution_count": 12,
   "metadata": {},
   "outputs": [],
   "source": [
    "cols = [\"event_time\",\"event_type\",\"product_id\",\"category_id\",\"category_code\",\"brand\",\n",
    "       \"price\",\"user_id\"]\n",
    "test[cols].to_csv(os.path.join(data_folder, \"2019-Nov-sample-test-purch.csv\"), header=False)\n",
    "test.reset_index()[\"user_id\"].to_csv(os.path.join(data_folder, \"2019-Nov-sample-test-userid.csv\"), \n",
    "                       header=False)"
   ]
  },
  {
   "cell_type": "markdown",
   "metadata": {},
   "source": [
    "### For first recommender (purchase): consider only purchases events"
   ]
  },
  {
   "cell_type": "code",
   "execution_count": 13,
   "metadata": {},
   "outputs": [],
   "source": [
    "df_p = df_sample[(df_sample[\"event_type\"]==\"purchase\")]"
   ]
  },
  {
   "cell_type": "markdown",
   "metadata": {},
   "source": [
    "### Split train/test: create a train set by excluding the user-item in the test above"
   ]
  },
  {
   "cell_type": "code",
   "execution_count": 14,
   "metadata": {},
   "outputs": [],
   "source": [
    "merge_on = [\"product_id\",\"user_id\", \"event_type\"]\n",
    "train_p = df_p.merge(test[merge_on], on=merge_on, how=\"left\", indicator=True)\n",
    "# exclude user-product that are already in the test set (indipendent from the event type)\n",
    "train_p = train_p[train_p[\"_merge\"]==\"left_only\"].drop(columns=\"_merge\")"
   ]
  },
  {
   "cell_type": "code",
   "execution_count": 15,
   "metadata": {},
   "outputs": [
    {
     "name": "stdout",
     "output_type": "stream",
     "text": [
      "Info train set: \n",
      "\n",
      "Nr. of events: 55214\n",
      "Nr. users: 10000\n",
      "Nr. products: 14981\n",
      "Nr. categories: 529\n",
      "Median events by user: 4.0\n",
      "Median categories by user: 3.0\n"
     ]
    }
   ],
   "source": [
    "print(\"Info train set: \\n\")\n",
    "info_df(train_p)"
   ]
  },
  {
   "cell_type": "markdown",
   "metadata": {},
   "source": [
    "### Save to csv"
   ]
  },
  {
   "cell_type": "code",
   "execution_count": 16,
   "metadata": {},
   "outputs": [],
   "source": [
    "train_p.loc[:,\"event_time\"]= pd.to_datetime(train_p.loc[:,\"event_time\"])\n",
    "train_p[cols].to_csv(os.path.join(data_folder, \"2019-Nov-sample-train-purch.csv\"), header=False)\n"
   ]
  },
  {
   "cell_type": "markdown",
   "metadata": {},
   "source": [
    "### For second recommender (purchase, view category): consider purchases, view"
   ]
  },
  {
   "cell_type": "code",
   "execution_count": 17,
   "metadata": {},
   "outputs": [],
   "source": [
    "df_view_cat = df_sample[df_sample[\"event_type\"]==\"view\"].drop_duplicates([\"user_id\",\"category_id\"])\n",
    "\n",
    "train_pv = pd.concat([train_p, df_view_cat], axis=0)"
   ]
  },
  {
   "cell_type": "code",
   "execution_count": 18,
   "metadata": {},
   "outputs": [
    {
     "name": "stdout",
     "output_type": "stream",
     "text": [
      "Info train set: \n",
      "\n",
      "Nr. of events: 184225\n",
      "Nr. users: 10000\n",
      "Nr. products: 39267\n",
      "Nr. categories: 652\n",
      "Median events by user: 14.0\n",
      "Median categories by user: 9.0\n"
     ]
    }
   ],
   "source": [
    "print(\"Info train set: \\n\")\n",
    "info_df(train_pv)"
   ]
  },
  {
   "cell_type": "markdown",
   "metadata": {},
   "source": [
    "### Save to csv"
   ]
  },
  {
   "cell_type": "code",
   "execution_count": 19,
   "metadata": {},
   "outputs": [],
   "source": [
    "#train_pv.loc[:,\"event_time\"]= pd.to_datetime(train_pv.loc[:,\"event_time\"])\n",
    "train_pv[cols].to_csv(os.path.join(data_folder, \"2019-Nov-sample-train-purch-view.csv\"), header=False)\n"
   ]
  },
  {
   "cell_type": "markdown",
   "metadata": {},
   "source": [
    "### For third recommender (purchase, cart, view category): consider purchases, view and cart"
   ]
  },
  {
   "cell_type": "code",
   "execution_count": 20,
   "metadata": {},
   "outputs": [],
   "source": [
    "df_c = df_sample[df_sample[\"event_type\"]==\"cart\"]\n",
    "\n",
    "#exclude cart that are already purchased in the test set\n",
    "merge_on = [\"product_id\",\"user_id\"]\n",
    "df_c = df_c.merge(test[merge_on], on=merge_on, how=\"left\", indicator=True)\n",
    "df_c = df_c[df_c[\"_merge\"]==\"left_only\"].drop(columns=\"_merge\")"
   ]
  },
  {
   "cell_type": "code",
   "execution_count": 21,
   "metadata": {},
   "outputs": [],
   "source": [
    "train_pvc = pd.concat([train_p, df_view_cat, df_c], axis=0)"
   ]
  },
  {
   "cell_type": "code",
   "execution_count": 22,
   "metadata": {},
   "outputs": [
    {
     "name": "stdout",
     "output_type": "stream",
     "text": [
      "Info train set: \n",
      "\n",
      "Nr. of events: 255972\n",
      "Nr. users: 10000\n",
      "Nr. products: 42096\n",
      "Nr. categories: 652\n",
      "Median events by user: 20.0\n",
      "Median categories by user: 9.0\n"
     ]
    }
   ],
   "source": [
    "print(\"Info train set: \\n\")\n",
    "info_df(train_pvc)"
   ]
  },
  {
   "cell_type": "markdown",
   "metadata": {},
   "source": [
    "### Save to csv"
   ]
  },
  {
   "cell_type": "code",
   "execution_count": 23,
   "metadata": {},
   "outputs": [],
   "source": [
    "train_pvc[cols].to_csv(os.path.join(data_folder, \"2019-Nov-sample-train-purch-view-cart.csv\"), header=False)\n"
   ]
  }
 ],
 "metadata": {
  "kernelspec": {
   "display_name": "Python 3",
   "language": "python",
   "name": "python3"
  },
  "language_info": {
   "codemirror_mode": {
    "name": "ipython",
    "version": 3
   },
   "file_extension": ".py",
   "mimetype": "text/x-python",
   "name": "python",
   "nbconvert_exporter": "python",
   "pygments_lexer": "ipython3",
   "version": "3.8.5"
  }
 },
 "nbformat": 4,
 "nbformat_minor": 2
}
