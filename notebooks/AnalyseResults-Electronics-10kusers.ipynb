{
 "cells": [
  {
   "cell_type": "code",
   "execution_count": 1,
   "metadata": {},
   "outputs": [],
   "source": [
    "import pandas as pd\n",
    "import json\n",
    "import numpy as np\n",
    "import os\n",
    "import csv"
   ]
  },
  {
   "cell_type": "code",
   "execution_count": 2,
   "metadata": {},
   "outputs": [],
   "source": [
    "from matplotlib import pyplot as plt\n",
    "%matplotlib inline"
   ]
  },
  {
   "cell_type": "code",
   "execution_count": 3,
   "metadata": {},
   "outputs": [],
   "source": [
    "main_path = \"../data/\""
   ]
  },
  {
   "cell_type": "markdown",
   "metadata": {},
   "source": [
    "## Load Data"
   ]
  },
  {
   "cell_type": "markdown",
   "metadata": {},
   "source": [
    "### results containing reccomendations"
   ]
  },
  {
   "cell_type": "code",
   "execution_count": 4,
   "metadata": {},
   "outputs": [],
   "source": [
    "#result recommender with only purchase as action on eletronics products\n",
    "res_p = pd.read_json(os.path.join(main_path,\"results/predictions-ecommerce-eletronics-p-10kusers.json\"))\n",
    "#result recommender with purchase (main action) and view on eletronics products\n",
    "res_pv = pd.read_json(os.path.join(main_path, \"results/predictions-ecommerce-eletronics-pv-10kusers.json\"))\n",
    "#result recommender with purchase (main action), view and cart as secondary actions on eletronics products\n",
    "res_pvc = pd.read_json(os.path.join(main_path, \"results/predictions-ecommerce-eletronics-pvc-10kusers.json\"))"
   ]
  },
  {
   "cell_type": "markdown",
   "metadata": {},
   "source": [
    "### dataset containing eletronics item interactions"
   ]
  },
  {
   "cell_type": "code",
   "execution_count": 6,
   "metadata": {},
   "outputs": [],
   "source": [
    "#df_el = pd.read_csv(\"../datasets/2019-Nov-eletronics.csv\")\n",
    "df_el = pd.read_csv(\"/home/francesca/Documents/harness-docker-compose-v1/datasets/2019-Nov-eletronics.csv\")"
   ]
  },
  {
   "cell_type": "code",
   "execution_count": 7,
   "metadata": {},
   "outputs": [],
   "source": [
    "items = df_el[[\"product_id\",\"brand\"]].drop_duplicates()"
   ]
  },
  {
   "cell_type": "code",
   "execution_count": 8,
   "metadata": {},
   "outputs": [],
   "source": [
    "def get_item_name(result,df):\n",
    "    result_w_info = list()\n",
    "    for rec in result:\n",
    "        df_rec = df[df[\"product_id\"]==int(rec[\"item\"])]\n",
    "        rec[\"brand\"] = df_rec.iloc[0][\"brand\"]\n",
    "        result_w_info.append(rec)\n",
    "    return result_w_info\n",
    "\n",
    "res_p.loc[:,\"result\"] = res_p.apply(lambda row: get_item_name(row[\"result\"], items),1)\n",
    "res_pv.loc[:,\"result\"] = res_pv.apply(lambda row: get_item_name(row[\"result\"], items),1)\n",
    "res_pvc.loc[:,\"result\"] = res_pvc.apply(lambda row: get_item_name(row[\"result\"], items),1)"
   ]
  },
  {
   "cell_type": "code",
   "execution_count": 9,
   "metadata": {},
   "outputs": [
    {
     "data": {
      "text/html": [
       "<div>\n",
       "<style scoped>\n",
       "    .dataframe tbody tr th:only-of-type {\n",
       "        vertical-align: middle;\n",
       "    }\n",
       "\n",
       "    .dataframe tbody tr th {\n",
       "        vertical-align: top;\n",
       "    }\n",
       "\n",
       "    .dataframe thead th {\n",
       "        text-align: right;\n",
       "    }\n",
       "</style>\n",
       "<table border=\"1\" class=\"dataframe\">\n",
       "  <thead>\n",
       "    <tr style=\"text-align: right;\">\n",
       "      <th></th>\n",
       "      <th>result</th>\n",
       "      <th>user_id</th>\n",
       "    </tr>\n",
       "  </thead>\n",
       "  <tbody>\n",
       "    <tr>\n",
       "      <th>0</th>\n",
       "      <td>[{'item': '1005103', 'score': 27.6299858093261...</td>\n",
       "      <td>478741761</td>\n",
       "    </tr>\n",
       "    <tr>\n",
       "      <th>1</th>\n",
       "      <td>[{'item': '1004990', 'score': 12.6461887359619...</td>\n",
       "      <td>491693116</td>\n",
       "    </tr>\n",
       "    <tr>\n",
       "      <th>2</th>\n",
       "      <td>[{'item': '1005100', 'score': 9.5614595413208,...</td>\n",
       "      <td>507897148</td>\n",
       "    </tr>\n",
       "    <tr>\n",
       "      <th>3</th>\n",
       "      <td>[{'item': '1005168', 'score': 15.4581785202026...</td>\n",
       "      <td>510670517</td>\n",
       "    </tr>\n",
       "    <tr>\n",
       "      <th>4</th>\n",
       "      <td>[{'item': '1004249', 'score': 9.20953369140625...</td>\n",
       "      <td>512363921</td>\n",
       "    </tr>\n",
       "  </tbody>\n",
       "</table>\n",
       "</div>"
      ],
      "text/plain": [
       "                                              result    user_id\n",
       "0  [{'item': '1005103', 'score': 27.6299858093261...  478741761\n",
       "1  [{'item': '1004990', 'score': 12.6461887359619...  491693116\n",
       "2  [{'item': '1005100', 'score': 9.5614595413208,...  507897148\n",
       "3  [{'item': '1005168', 'score': 15.4581785202026...  510670517\n",
       "4  [{'item': '1004249', 'score': 9.20953369140625...  512363921"
      ]
     },
     "execution_count": 9,
     "metadata": {},
     "output_type": "execute_result"
    }
   ],
   "source": [
    "res_p.head()"
   ]
  },
  {
   "cell_type": "markdown",
   "metadata": {},
   "source": [
    "### train sets"
   ]
  },
  {
   "cell_type": "code",
   "execution_count": 10,
   "metadata": {},
   "outputs": [],
   "source": [
    "cols = [\"event_time\",\"event_type\",\"product_id\",\"category_id\",\"category_code\",\"brand\",\n",
    "       \"price\",\"user_id\"]\n",
    "train_p = pd.read_csv(os.path.join(main_path,\"input_data/2019-Nov-sample-train-eletronics-purch-10kusers.csv\"),\n",
    "                     names = cols)\n",
    "#train_pv = pd.read_csv(os.path.join(main_path,\"input_data/2019-Nov-sample-train-eletronics-purch-view-10kusers.csv\"),\n",
    "#                     names = cols)\n",
    "#train_pvc = pd.read_csv(os.path.join(main_path,\"input_data/2019-Nov-sample-train-eletronics-purch-view-cart-10kusers.csv\"),\n",
    "#                     names = cols)"
   ]
  },
  {
   "cell_type": "code",
   "execution_count": 11,
   "metadata": {
    "scrolled": true
   },
   "outputs": [
    {
     "data": {
      "text/html": [
       "<div>\n",
       "<style scoped>\n",
       "    .dataframe tbody tr th:only-of-type {\n",
       "        vertical-align: middle;\n",
       "    }\n",
       "\n",
       "    .dataframe tbody tr th {\n",
       "        vertical-align: top;\n",
       "    }\n",
       "\n",
       "    .dataframe thead th {\n",
       "        text-align: right;\n",
       "    }\n",
       "</style>\n",
       "<table border=\"1\" class=\"dataframe\">\n",
       "  <thead>\n",
       "    <tr style=\"text-align: right;\">\n",
       "      <th></th>\n",
       "      <th>result</th>\n",
       "      <th>user_id</th>\n",
       "    </tr>\n",
       "  </thead>\n",
       "  <tbody>\n",
       "    <tr>\n",
       "      <th>0</th>\n",
       "      <td>[{'item': '1005103', 'score': 27.6299858093261...</td>\n",
       "      <td>478741761</td>\n",
       "    </tr>\n",
       "    <tr>\n",
       "      <th>1</th>\n",
       "      <td>[{'item': '1004990', 'score': 12.6461887359619...</td>\n",
       "      <td>491693116</td>\n",
       "    </tr>\n",
       "    <tr>\n",
       "      <th>2</th>\n",
       "      <td>[{'item': '1005100', 'score': 9.5614595413208,...</td>\n",
       "      <td>507897148</td>\n",
       "    </tr>\n",
       "    <tr>\n",
       "      <th>3</th>\n",
       "      <td>[{'item': '1005168', 'score': 15.4581785202026...</td>\n",
       "      <td>510670517</td>\n",
       "    </tr>\n",
       "    <tr>\n",
       "      <th>4</th>\n",
       "      <td>[{'item': '1004249', 'score': 9.20953369140625...</td>\n",
       "      <td>512363921</td>\n",
       "    </tr>\n",
       "  </tbody>\n",
       "</table>\n",
       "</div>"
      ],
      "text/plain": [
       "                                              result    user_id\n",
       "0  [{'item': '1005103', 'score': 27.6299858093261...  478741761\n",
       "1  [{'item': '1004990', 'score': 12.6461887359619...  491693116\n",
       "2  [{'item': '1005100', 'score': 9.5614595413208,...  507897148\n",
       "3  [{'item': '1005168', 'score': 15.4581785202026...  510670517\n",
       "4  [{'item': '1004249', 'score': 9.20953369140625...  512363921"
      ]
     },
     "execution_count": 11,
     "metadata": {},
     "output_type": "execute_result"
    }
   ],
   "source": [
    "res_p.head()"
   ]
  },
  {
   "cell_type": "code",
   "execution_count": 12,
   "metadata": {},
   "outputs": [
    {
     "data": {
      "text/html": [
       "<div>\n",
       "<style scoped>\n",
       "    .dataframe tbody tr th:only-of-type {\n",
       "        vertical-align: middle;\n",
       "    }\n",
       "\n",
       "    .dataframe tbody tr th {\n",
       "        vertical-align: top;\n",
       "    }\n",
       "\n",
       "    .dataframe thead th {\n",
       "        text-align: right;\n",
       "    }\n",
       "</style>\n",
       "<table border=\"1\" class=\"dataframe\">\n",
       "  <thead>\n",
       "    <tr style=\"text-align: right;\">\n",
       "      <th></th>\n",
       "      <th>event_time</th>\n",
       "      <th>event_type</th>\n",
       "      <th>product_id</th>\n",
       "      <th>category_id</th>\n",
       "      <th>category_code</th>\n",
       "      <th>brand</th>\n",
       "      <th>price</th>\n",
       "      <th>user_id</th>\n",
       "    </tr>\n",
       "  </thead>\n",
       "  <tbody>\n",
       "    <tr>\n",
       "      <th>11</th>\n",
       "      <td>2019-11-08 12:29:49+00:00</td>\n",
       "      <td>purchase</td>\n",
       "      <td>1005100</td>\n",
       "      <td>2053013555631882655</td>\n",
       "      <td>electronics.smartphone</td>\n",
       "      <td>samsung</td>\n",
       "      <td>138.23</td>\n",
       "      <td>491693116</td>\n",
       "    </tr>\n",
       "    <tr>\n",
       "      <th>12</th>\n",
       "      <td>2019-11-09 07:21:22+00:00</td>\n",
       "      <td>purchase</td>\n",
       "      <td>1004903</td>\n",
       "      <td>2053013555631882655</td>\n",
       "      <td>electronics.smartphone</td>\n",
       "      <td>huawei</td>\n",
       "      <td>113.17</td>\n",
       "      <td>491693116</td>\n",
       "    </tr>\n",
       "    <tr>\n",
       "      <th>13</th>\n",
       "      <td>2019-11-09 09:50:04+00:00</td>\n",
       "      <td>purchase</td>\n",
       "      <td>1004767</td>\n",
       "      <td>2053013555631882655</td>\n",
       "      <td>electronics.smartphone</td>\n",
       "      <td>samsung</td>\n",
       "      <td>240.26</td>\n",
       "      <td>491693116</td>\n",
       "    </tr>\n",
       "    <tr>\n",
       "      <th>14</th>\n",
       "      <td>2019-11-10 12:30:57+00:00</td>\n",
       "      <td>purchase</td>\n",
       "      <td>1005235</td>\n",
       "      <td>2053013555631882655</td>\n",
       "      <td>electronics.smartphone</td>\n",
       "      <td>oppo</td>\n",
       "      <td>437.57</td>\n",
       "      <td>491693116</td>\n",
       "    </tr>\n",
       "  </tbody>\n",
       "</table>\n",
       "</div>"
      ],
      "text/plain": [
       "                   event_time event_type  product_id          category_id  \\\n",
       "11  2019-11-08 12:29:49+00:00   purchase     1005100  2053013555631882655   \n",
       "12  2019-11-09 07:21:22+00:00   purchase     1004903  2053013555631882655   \n",
       "13  2019-11-09 09:50:04+00:00   purchase     1004767  2053013555631882655   \n",
       "14  2019-11-10 12:30:57+00:00   purchase     1005235  2053013555631882655   \n",
       "\n",
       "             category_code    brand   price    user_id  \n",
       "11  electronics.smartphone  samsung  138.23  491693116  \n",
       "12  electronics.smartphone   huawei  113.17  491693116  \n",
       "13  electronics.smartphone  samsung  240.26  491693116  \n",
       "14  electronics.smartphone     oppo  437.57  491693116  "
      ]
     },
     "execution_count": 12,
     "metadata": {},
     "output_type": "execute_result"
    }
   ],
   "source": [
    "user = 491693116\n",
    "train_p[train_p[\"user_id\"]==user]"
   ]
  },
  {
   "cell_type": "code",
   "execution_count": 13,
   "metadata": {},
   "outputs": [
    {
     "data": {
      "text/plain": [
       "[{'item': '1004990', 'score': 12.646188735961914, 'brand': 'oppo'},\n",
       " {'item': '1005278', 'score': 10.320852279663086, 'brand': 'meizu'},\n",
       " {'item': '1004502', 'score': 10.320852279663086, 'brand': 'oppo'},\n",
       " {'item': '1005263', 'score': 9.706514358520508, 'brand': 'oppo'}]"
      ]
     },
     "execution_count": 13,
     "metadata": {},
     "output_type": "execute_result"
    }
   ],
   "source": [
    "res_p[res_p[\"user_id\"]==user].iloc[0][\"result\"]"
   ]
  },
  {
   "cell_type": "code",
   "execution_count": 14,
   "metadata": {},
   "outputs": [
    {
     "data": {
      "text/plain": [
       "[{'item': '1004836', 'score': 23.510536193847656, 'brand': 'samsung'},\n",
       " {'item': '1005004', 'score': 23.192882537841797, 'brand': 'huawei'},\n",
       " {'item': '1005259', 'score': 22.911670684814453, 'brand': 'umi'},\n",
       " {'item': '1005205', 'score': 22.631677627563477, 'brand': 'oppo'}]"
      ]
     },
     "execution_count": 14,
     "metadata": {},
     "output_type": "execute_result"
    }
   ],
   "source": [
    "res_pv[res_pv[\"user_id\"]==user].iloc[0][\"result\"]"
   ]
  },
  {
   "cell_type": "code",
   "execution_count": 15,
   "metadata": {},
   "outputs": [
    {
     "data": {
      "text/plain": [
       "[{'item': '1005238', 'score': 38.10474395751953, 'brand': 'oppo'},\n",
       " {'item': '1004839', 'score': 35.28776931762695, 'brand': 'oppo'},\n",
       " {'item': '1004961', 'score': 35.256404876708984, 'brand': 'oppo'},\n",
       " {'item': '1005205', 'score': 32.88294982910156, 'brand': 'oppo'}]"
      ]
     },
     "execution_count": 15,
     "metadata": {},
     "output_type": "execute_result"
    }
   ],
   "source": [
    "res_pvc[res_pvc[\"user_id\"]==user].iloc[0][\"result\"]"
   ]
  },
  {
   "cell_type": "markdown",
   "metadata": {},
   "source": [
    "### Test data"
   ]
  },
  {
   "cell_type": "code",
   "execution_count": 16,
   "metadata": {},
   "outputs": [],
   "source": [
    "test = pd.read_csv(os.path.join(main_path,\"input_data/2019-Nov-sample-test-eletronics-purch-10kusers.csv\"),\n",
    "                     names = cols)"
   ]
  },
  {
   "cell_type": "markdown",
   "metadata": {},
   "source": [
    "## Prepare results"
   ]
  },
  {
   "cell_type": "code",
   "execution_count": 17,
   "metadata": {},
   "outputs": [],
   "source": [
    "def extract_rec(df_res):\n",
    "    df_res.loc[:, \"result_items\"] = df_res.loc[:,\"result\"].apply(lambda x: [int(i[\"item\"]) for i in x],1)\n",
    "    df_res.loc[:, \"result_scores\"] = df_res.loc[:,\"result\"].apply(lambda x: [i[\"score\"] for i in x],1)\n",
    "    df_res.loc[:, \"result_length\"] = df_res.loc[:, \"result\"].apply(lambda x: len(x))\n",
    "    return df_res\n",
    "\n",
    "res_p = extract_rec(res_p)\n",
    "res_pv = extract_rec(res_pv)\n",
    "res_pvc = extract_rec(res_pvc)"
   ]
  },
  {
   "cell_type": "markdown",
   "metadata": {},
   "source": [
    "# Evaluate recommenders"
   ]
  },
  {
   "cell_type": "markdown",
   "metadata": {},
   "source": [
    "### Consider how many user-product in test set were recommended"
   ]
  },
  {
   "cell_type": "code",
   "execution_count": 18,
   "metadata": {},
   "outputs": [
    {
     "name": "stdout",
     "output_type": "stream",
     "text": [
      "RECOMMENDER WITH PURCHASE\n",
      "\n",
      "(Max) Nr. recommended items: 4\n",
      "Nr. of users where test item is recommended: 1424\n"
     ]
    }
   ],
   "source": [
    "print(\"RECOMMENDER WITH PURCHASE\\n\")\n",
    "test_p = test.merge(res_p, on=\"user_id\", how=\"inner\")\n",
    "rec_prod_p = test_p[test_p.apply(lambda row: row[\"product_id\"] in row[\"result_items\"],1) == True]\n",
    "\n",
    "print(\"(Max) Nr. recommended items: {}\".format(np.max(test_p[\"result_length\"])))\n",
    "print(\"Nr. of users where test item is recommended: {}\".format(len(rec_prod_p)))"
   ]
  },
  {
   "cell_type": "code",
   "execution_count": 19,
   "metadata": {},
   "outputs": [
    {
     "name": "stdout",
     "output_type": "stream",
     "text": [
      "RECOMMENDER WITH PURCHASE AND VIEW\n",
      "\n",
      "(Max) Nr. recommended items: 4\n",
      "Nr. of users where test item is recommended: 1575\n"
     ]
    }
   ],
   "source": [
    "print(\"RECOMMENDER WITH PURCHASE AND VIEW\\n\")\n",
    "test_pv = test.merge(res_pv, on=\"user_id\", how=\"inner\")\n",
    "rec_prod_pv = test_pv[test_pv.apply(lambda row: row[\"product_id\"] in row[\"result_items\"],1) == True]\n",
    "\n",
    "print(\"(Max) Nr. recommended items: {}\".format(np.max(test_pv[\"result_length\"])))\n",
    "print(\"Nr. of users where test item is recommended: {}\".format(len(rec_prod_pv)))"
   ]
  },
  {
   "cell_type": "code",
   "execution_count": 20,
   "metadata": {},
   "outputs": [
    {
     "name": "stdout",
     "output_type": "stream",
     "text": [
      "RECOMMENDER WITH PURCHASE, VIEW AND CART\n",
      "\n",
      "(Max) Nr. recommended items: 4\n",
      "Nr. of users where test item is recommended: 1620\n"
     ]
    }
   ],
   "source": [
    "print(\"RECOMMENDER WITH PURCHASE, VIEW AND CART\\n\")\n",
    "test_pvc = test.merge(res_pvc, on=\"user_id\", how=\"inner\")\n",
    "rec_prod_pvc = test_pvc[test_pvc.apply(lambda row: row[\"product_id\"] in row[\"result_items\"],1) == True]\n",
    "\n",
    "print(\"(Max) Nr. recommended items: {}\".format(np.max(test_pvc[\"result_length\"])))\n",
    "print(\"Nr. of users where test item is recommended: {}\".format(len(rec_prod_pvc)))"
   ]
  },
  {
   "cell_type": "markdown",
   "metadata": {},
   "source": [
    "## Intersections between recommenders"
   ]
  },
  {
   "cell_type": "code",
   "execution_count": 55,
   "metadata": {},
   "outputs": [
    {
     "name": "stdout",
     "output_type": "stream",
     "text": [
      "Percentage of users in pvc recommender that are in pv recommender: 62.098765432098766\n",
      "\n",
      "Percentage of users in pvc recommender that are in p recommender: 44.19753086419753\n",
      "\n",
      "Percentage of users in pv recommender that are in p recommender: 43.04761904761905\n",
      "\n"
     ]
    }
   ],
   "source": [
    "print(\n",
    "    \"Percentage of users in pvc recommender that are in pv recommender: {}\\n\".format(\n",
    "    len(rec_prod_pvc[rec_prod_pvc[\"user_id\"].isin(rec_prod_pv[\"user_id\"].unique())])*100/len(rec_prod_pvc)\n",
    ")\n",
    "    )\n",
    "\n",
    "print(\n",
    "    \"Percentage of users in pvc recommender that are in p recommender: {}\\n\".format(\n",
    "    len(rec_prod_pvc[rec_prod_pvc[\"user_id\"].isin(rec_prod_p[\"user_id\"].unique())])*100/len(rec_prod_pvc)\n",
    ")\n",
    "    )\n",
    "\n",
    "\n",
    "print(\n",
    "    \"Percentage of users in pv recommender that are in p recommender: {}\\n\".format(\n",
    "    len(rec_prod_pv[rec_prod_pv[\"user_id\"].isin(rec_prod_p[\"user_id\"].unique())])*100/len(rec_prod_pv)\n",
    ")\n",
    "    )"
   ]
  },
  {
   "cell_type": "markdown",
   "metadata": {},
   "source": [
    "### Item positions in recommendations"
   ]
  },
  {
   "cell_type": "code",
   "execution_count": 56,
   "metadata": {},
   "outputs": [
    {
     "name": "stderr",
     "output_type": "stream",
     "text": [
      "/home/francesca/anaconda3/envs/universal-rec/lib/python3.8/site-packages/pandas/core/indexing.py:1597: SettingWithCopyWarning: \n",
      "A value is trying to be set on a copy of a slice from a DataFrame.\n",
      "Try using .loc[row_indexer,col_indexer] = value instead\n",
      "\n",
      "See the caveats in the documentation: https://pandas.pydata.org/pandas-docs/stable/user_guide/indexing.html#returning-a-view-versus-a-copy\n",
      "  self.obj[key] = value\n",
      "/home/francesca/anaconda3/envs/universal-rec/lib/python3.8/site-packages/pandas/core/indexing.py:1676: SettingWithCopyWarning: \n",
      "A value is trying to be set on a copy of a slice from a DataFrame.\n",
      "Try using .loc[row_indexer,col_indexer] = value instead\n",
      "\n",
      "See the caveats in the documentation: https://pandas.pydata.org/pandas-docs/stable/user_guide/indexing.html#returning-a-view-versus-a-copy\n",
      "  self._setitem_single_column(ilocs[0], value, pi)\n"
     ]
    }
   ],
   "source": [
    "def find_position(scores, items, product_id):\n",
    "    prod_index = items.index(product_id)\n",
    "    return prod_index\n",
    "\n",
    "rec_prod_p.loc[:,\"item_position\"] = rec_prod_p.apply(lambda row: find_position(row[\"result_scores\"],\n",
    "                                                                            row[\"result_items\"],\n",
    "                                                                            row[\"product_id\"]), axis=1)\n",
    "\n",
    "rec_prod_pv.loc[:,\"item_position\"] = rec_prod_pv.apply(lambda row: find_position(row[\"result_scores\"],\n",
    "                                                                            row[\"result_items\"],\n",
    "                                                                            row[\"product_id\"]), axis=1)\n",
    "\n",
    "rec_prod_pvc.loc[:,\"item_position\"] = rec_prod_pvc.apply(lambda row: find_position(row[\"result_scores\"],\n",
    "                                                                            row[\"result_items\"],\n",
    "                                                                            row[\"product_id\"]), axis=1)\n"
   ]
  },
  {
   "cell_type": "code",
   "execution_count": 86,
   "metadata": {},
   "outputs": [
    {
     "data": {
      "image/png": "[encoded data removed]",
      "text/plain": [
       "<Figure size 1440x504 with 3 Axes>"
      ]
     },
     "metadata": {
      "needs_background": "light"
     },
     "output_type": "display_data"
    }
   ],
   "source": [
    "fig = plt.figure(figsize=(20,7))\n",
    "fig.suptitle(\"Distribution of test items by position in the recommender list\", fontsize=20)\n",
    "plt.subplot(131)\n",
    "(rec_prod_p.groupby(\"item_position\").size()*100/len(rec_prod_p)).plot(kind=\"bar\", \n",
    "                                                                      color='darkblue')\n",
    "plt.ylim(0,40)\n",
    "plt.title(\"Purchase Recommender\", fontsize=15)\n",
    "plt.subplot(132)\n",
    "(rec_prod_pv.groupby(\"item_position\").size()*100/len(rec_prod_pv)).plot(kind=\"bar\",\n",
    "                                                                       color='darkgoldenrod')\n",
    "plt.ylim(0,40)\n",
    "plt.title(\"Purchase-View Recommender\", fontsize=15)\n",
    "\n",
    "plt.subplot(133)\n",
    "(rec_prod_pvc.groupby(\"item_position\").size()*100/len(rec_prod_pvc)).plot(kind=\"bar\",\n",
    "                                                                         color='green')\n",
    "plt.title(\"Purchase-View-Cart Recommender\", fontsize=15)\n",
    "plt.ylim(0,40)\n",
    "\n",
    "plt.tight_layout()\n",
    "plt.show()"
   ]
  },
  {
   "cell_type": "code",
   "execution_count": null,
   "metadata": {},
   "outputs": [],
   "source": []
  }
 ],
 "metadata": {
  "kernelspec": {
   "display_name": "Python 3",
   "language": "python",
   "name": "python3"
  },
  "language_info": {
   "codemirror_mode": {
    "name": "ipython",
    "version": 3
   },
   "file_extension": ".py",
   "mimetype": "text/x-python",
   "name": "python",
   "nbconvert_exporter": "python",
   "pygments_lexer": "ipython3",
   "version": "3.8.5"
  }
 },
 "nbformat": 4,
 "nbformat_minor": 2
}
