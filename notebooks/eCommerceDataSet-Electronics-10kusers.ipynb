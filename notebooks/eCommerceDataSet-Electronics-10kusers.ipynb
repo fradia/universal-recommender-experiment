{
 "cells": [
  {
   "cell_type": "code",
   "execution_count": 2,
   "metadata": {},
   "outputs": [],
   "source": [
    "import pandas as pd\n",
    "import numpy as np\n",
    "import os\n",
    "import csv\n",
    "from datetime import datetime\n",
    "import pytz\n",
    "import json"
   ]
  },
  {
   "cell_type": "code",
   "execution_count": 3,
   "metadata": {},
   "outputs": [],
   "source": [
    "from matplotlib import pyplot as plt\n",
    "%matplotlib inline"
   ]
  },
  {
   "cell_type": "markdown",
   "metadata": {},
   "source": [
    "source: https://www.kaggle.com/mkechinov/ecommerce-behavior-data-from-multi-category-store?select=2019-Nov.csv"
   ]
  },
  {
   "cell_type": "code",
   "execution_count": 3,
   "metadata": {},
   "outputs": [],
   "source": [
    "df = pd.read_csv(\"../datasets/2019-Nov.csv\")#download the file and save it in the datasets folder"
   ]
  },
  {
   "cell_type": "code",
   "execution_count": 4,
   "metadata": {},
   "outputs": [
    {
     "data": {
      "text/html": [
       "<div>\n",
       "<style scoped>\n",
       "    .dataframe tbody tr th:only-of-type {\n",
       "        vertical-align: middle;\n",
       "    }\n",
       "\n",
       "    .dataframe tbody tr th {\n",
       "        vertical-align: top;\n",
       "    }\n",
       "\n",
       "    .dataframe thead th {\n",
       "        text-align: right;\n",
       "    }\n",
       "</style>\n",
       "<table border=\"1\" class=\"dataframe\">\n",
       "  <thead>\n",
       "    <tr style=\"text-align: right;\">\n",
       "      <th></th>\n",
       "      <th>event_time</th>\n",
       "      <th>event_type</th>\n",
       "      <th>product_id</th>\n",
       "      <th>category_id</th>\n",
       "      <th>category_code</th>\n",
       "      <th>brand</th>\n",
       "      <th>price</th>\n",
       "      <th>user_id</th>\n",
       "      <th>user_session</th>\n",
       "    </tr>\n",
       "  </thead>\n",
       "  <tbody>\n",
       "    <tr>\n",
       "      <th>0</th>\n",
       "      <td>2019-11-01 00:00:00 UTC</td>\n",
       "      <td>view</td>\n",
       "      <td>1003461</td>\n",
       "      <td>2053013555631882655</td>\n",
       "      <td>electronics.smartphone</td>\n",
       "      <td>xiaomi</td>\n",
       "      <td>489.07</td>\n",
       "      <td>520088904</td>\n",
       "      <td>4d3b30da-a5e4-49df-b1a8-ba5943f1dd33</td>\n",
       "    </tr>\n",
       "    <tr>\n",
       "      <th>1</th>\n",
       "      <td>2019-11-01 00:00:00 UTC</td>\n",
       "      <td>view</td>\n",
       "      <td>5000088</td>\n",
       "      <td>2053013566100866035</td>\n",
       "      <td>appliances.sewing_machine</td>\n",
       "      <td>janome</td>\n",
       "      <td>293.65</td>\n",
       "      <td>530496790</td>\n",
       "      <td>8e5f4f83-366c-4f70-860e-ca7417414283</td>\n",
       "    </tr>\n",
       "    <tr>\n",
       "      <th>2</th>\n",
       "      <td>2019-11-01 00:00:01 UTC</td>\n",
       "      <td>view</td>\n",
       "      <td>17302664</td>\n",
       "      <td>2053013553853497655</td>\n",
       "      <td>NaN</td>\n",
       "      <td>creed</td>\n",
       "      <td>28.31</td>\n",
       "      <td>561587266</td>\n",
       "      <td>755422e7-9040-477b-9bd2-6a6e8fd97387</td>\n",
       "    </tr>\n",
       "    <tr>\n",
       "      <th>3</th>\n",
       "      <td>2019-11-01 00:00:01 UTC</td>\n",
       "      <td>view</td>\n",
       "      <td>3601530</td>\n",
       "      <td>2053013563810775923</td>\n",
       "      <td>appliances.kitchen.washer</td>\n",
       "      <td>lg</td>\n",
       "      <td>712.87</td>\n",
       "      <td>518085591</td>\n",
       "      <td>3bfb58cd-7892-48cc-8020-2f17e6de6e7f</td>\n",
       "    </tr>\n",
       "    <tr>\n",
       "      <th>4</th>\n",
       "      <td>2019-11-01 00:00:01 UTC</td>\n",
       "      <td>view</td>\n",
       "      <td>1004775</td>\n",
       "      <td>2053013555631882655</td>\n",
       "      <td>electronics.smartphone</td>\n",
       "      <td>xiaomi</td>\n",
       "      <td>183.27</td>\n",
       "      <td>558856683</td>\n",
       "      <td>313628f1-68b8-460d-84f6-cec7a8796ef2</td>\n",
       "    </tr>\n",
       "  </tbody>\n",
       "</table>\n",
       "</div>"
      ],
      "text/plain": [
       "                event_time event_type  product_id          category_id  \\\n",
       "0  2019-11-01 00:00:00 UTC       view     1003461  2053013555631882655   \n",
       "1  2019-11-01 00:00:00 UTC       view     5000088  2053013566100866035   \n",
       "2  2019-11-01 00:00:01 UTC       view    17302664  2053013553853497655   \n",
       "3  2019-11-01 00:00:01 UTC       view     3601530  2053013563810775923   \n",
       "4  2019-11-01 00:00:01 UTC       view     1004775  2053013555631882655   \n",
       "\n",
       "               category_code   brand   price    user_id  \\\n",
       "0     electronics.smartphone  xiaomi  489.07  520088904   \n",
       "1  appliances.sewing_machine  janome  293.65  530496790   \n",
       "2                        NaN   creed   28.31  561587266   \n",
       "3  appliances.kitchen.washer      lg  712.87  518085591   \n",
       "4     electronics.smartphone  xiaomi  183.27  558856683   \n",
       "\n",
       "                           user_session  \n",
       "0  4d3b30da-a5e4-49df-b1a8-ba5943f1dd33  \n",
       "1  8e5f4f83-366c-4f70-860e-ca7417414283  \n",
       "2  755422e7-9040-477b-9bd2-6a6e8fd97387  \n",
       "3  3bfb58cd-7892-48cc-8020-2f17e6de6e7f  \n",
       "4  313628f1-68b8-460d-84f6-cec7a8796ef2  "
      ]
     },
     "execution_count": 4,
     "metadata": {},
     "output_type": "execute_result"
    }
   ],
   "source": [
    "df.head()"
   ]
  },
  {
   "cell_type": "code",
   "execution_count": 5,
   "metadata": {},
   "outputs": [
    {
     "data": {
      "text/plain": [
       "array(['view', 'cart', 'purchase'], dtype=object)"
      ]
     },
     "execution_count": 5,
     "metadata": {},
     "output_type": "execute_result"
    }
   ],
   "source": [
    "df[\"event_type\"].unique()"
   ]
  },
  {
   "cell_type": "markdown",
   "metadata": {},
   "source": [
    "#### Select only one category & remove duplicates"
   ]
  },
  {
   "cell_type": "code",
   "execution_count": 6,
   "metadata": {},
   "outputs": [],
   "source": [
    "df_el = df[df[\"category_code\"]==\"electronics.smartphone\"]\n",
    "df_el = df_el.drop_duplicates([\"event_type\",\"product_id\",\"user_id\"])\n",
    "\n",
    "df_el.to_csv(\"../datasets/2019-Nov-eletronics.csv\") #save only eletronics items into datasets"
   ]
  },
  {
   "cell_type": "code",
   "execution_count": 5,
   "metadata": {},
   "outputs": [
    {
     "name": "stdout",
     "output_type": "stream",
     "text": [
      "Nr. of rows: 8075719\n",
      "Nr. of distinct users: 1575532\n",
      "Nr. of distinct products: 1341\n",
      "Median of user interaction: 3.0\n"
     ]
    }
   ],
   "source": [
    "print(\"Nr. of rows: {}\".format(len(df_el)))\n",
    "print(\"Nr. of distinct users: {}\".format(df_el[\"user_id\"].nunique()))\n",
    "print(\"Nr. of distinct products: {}\".format(df_el[\"product_id\"].nunique()))\n",
    "print(\"Median of user interaction: {}\".format(np.median(df_el.groupby(\"user_id\")[\"product_id\"].count())))"
   ]
  },
  {
   "cell_type": "markdown",
   "metadata": {},
   "source": [
    "### Consider top 10000 users by number of purchases"
   ]
  },
  {
   "cell_type": "code",
   "execution_count": 9,
   "metadata": {},
   "outputs": [],
   "source": [
    "n = 10000\n",
    "purch_by_users = df_el[df_el[\"event_type\"] \n",
    "                       ==\"purchase\"].groupby(\"user_id\")[\"product_id\"].nunique().reset_index(name=\"nr_purch\")\n",
    "top_n = list(purch_by_users.sort_values(\"nr_purch\", ascending=False).head(n)[\"user_id\"])"
   ]
  },
  {
   "cell_type": "markdown",
   "metadata": {},
   "source": [
    "### First recommender: consider only purchase events"
   ]
  },
  {
   "cell_type": "code",
   "execution_count": 10,
   "metadata": {},
   "outputs": [],
   "source": [
    "#for the first recommender we only consider purchases as interaction\n",
    "df_el_purch = df_el[(df_el[\"event_type\"]==\"purchase\") & (df_el[\"user_id\"].isin(top_n))]"
   ]
  },
  {
   "cell_type": "code",
   "execution_count": 11,
   "metadata": {},
   "outputs": [
    {
     "name": "stdout",
     "output_type": "stream",
     "text": [
      "Nr. users: 10000\n",
      "Nr. products: 721\n"
     ]
    }
   ],
   "source": [
    "print(\"Nr. users: {}\".format(len(df_el_purch[\"user_id\"].unique())))\n",
    "print(\"Nr. products: {}\".format(len(df_el_purch[\"product_id\"].unique())))"
   ]
  },
  {
   "cell_type": "markdown",
   "metadata": {},
   "source": [
    "### Split train/test (last m purchases are in test)"
   ]
  },
  {
   "cell_type": "code",
   "execution_count": 17,
   "metadata": {},
   "outputs": [],
   "source": [
    "#take all purchases except last one in the train set:\n",
    "train_test = df_el_purch.copy()\n",
    "train_test.loc[:,\"event_time\"]= pd.to_datetime(train_test.loc[:,\"event_time\"])\n",
    "train_test = train_test.sort_values([\"user_id\",\"event_time\"])\n",
    "train_test.loc[:,\"event_rank\"] = train_test.groupby(\"user_id\")[\"event_time\"].cumcount()+1"
   ]
  },
  {
   "cell_type": "code",
   "execution_count": 18,
   "metadata": {},
   "outputs": [],
   "source": [
    "train_test_max = train_test.groupby(\"user_id\")[\"event_rank\"].max().reset_index(name=\"max_rank\")\n",
    "train_test = train_test.merge(train_test_max, on=\"user_id\", how=\"inner\")"
   ]
  },
  {
   "cell_type": "code",
   "execution_count": 19,
   "metadata": {},
   "outputs": [],
   "source": [
    "m = 1\n",
    "train = train_test[train_test[\"event_rank\"]<=(train_test[\"max_rank\"]-m)]\n",
    "test = train_test[train_test[\"event_rank\"]>(train_test[\"max_rank\"]-m)]"
   ]
  },
  {
   "cell_type": "code",
   "execution_count": 20,
   "metadata": {},
   "outputs": [
    {
     "name": "stdout",
     "output_type": "stream",
     "text": [
      "Nr. users in train: 10000\n",
      "Nr. products in train: 685\n"
     ]
    }
   ],
   "source": [
    "print(\"Nr. users in train: {}\".format(len(train[\"user_id\"].unique())))\n",
    "print(\"Nr. products in train: {}\".format(len(train[\"product_id\"].unique())))"
   ]
  },
  {
   "cell_type": "markdown",
   "metadata": {},
   "source": [
    "### Save to csv"
   ]
  },
  {
   "cell_type": "code",
   "execution_count": 21,
   "metadata": {},
   "outputs": [],
   "source": [
    "data_folder = \"../data/input_data/\""
   ]
  },
  {
   "cell_type": "code",
   "execution_count": 24,
   "metadata": {},
   "outputs": [],
   "source": [
    "cols = [\"event_time\",\"event_type\",\"product_id\",\"category_id\",\"category_code\",\"brand\",\n",
    "       \"price\",\"user_id\"]\n",
    "train[cols].to_csv(os.path.join(data_folder, \"2019-Nov-sample-train-eletronics-purch-10kusers.csv\"), header=False)\n",
    "test[cols].to_csv(os.path.join(data_folder, \"2019-Nov-sample-test-eletronics-purch-10kusers.csv\"), header=False)\n",
    "test.reset_index()[\"user_id\"].to_csv(os.path.join(data_folder, \"2019-Nov-sample-test-eletronics-userid-10kusers.csv\"), \n",
    "                       header=False)"
   ]
  },
  {
   "cell_type": "markdown",
   "metadata": {},
   "source": [
    "### For second recommender (purchase, view): consider the top n users above and their purchases,views"
   ]
  },
  {
   "cell_type": "code",
   "execution_count": 25,
   "metadata": {},
   "outputs": [],
   "source": [
    "df_el_p_v = df_el[((df_el[\"event_type\"]==\"purchase\") | (df_el[\"event_type\"]==\"view\"))  & (df_el[\"user_id\"].isin(top_n))]"
   ]
  },
  {
   "cell_type": "code",
   "execution_count": 26,
   "metadata": {},
   "outputs": [
    {
     "name": "stdout",
     "output_type": "stream",
     "text": [
      "Nr. users: 10000\n",
      "Nr. products: 1039\n"
     ]
    }
   ],
   "source": [
    "print(\"Nr. users: {}\".format(len(df_el_p_v[\"user_id\"].unique())))\n",
    "print(\"Nr. products: {}\".format(len(df_el_p_v[\"product_id\"].unique())))"
   ]
  },
  {
   "cell_type": "markdown",
   "metadata": {},
   "source": [
    "### Split train/test: use test set from previous recommender use all other purchase and views for train "
   ]
  },
  {
   "cell_type": "code",
   "execution_count": 27,
   "metadata": {},
   "outputs": [],
   "source": [
    "#test = pd.read_csv(os.path.join(data_folder, \"2019-Nov-sample-test-eletronics-purch-10kusers.csv\"),\n",
    "#                   names=df_el_p_v.columns)"
   ]
  },
  {
   "cell_type": "code",
   "execution_count": 28,
   "metadata": {},
   "outputs": [],
   "source": [
    "merge_on = [\"product_id\",\"user_id\"]\n",
    "train2 = df_el_p_v.merge(test[merge_on], on=merge_on, how=\"left\", indicator=True)\n",
    "# exclude user-product that are already in the test set (indipendent from the event type)\n",
    "train2 = train2[train2[\"_merge\"]==\"left_only\"].drop(columns=\"_merge\")"
   ]
  },
  {
   "cell_type": "code",
   "execution_count": 29,
   "metadata": {},
   "outputs": [
    {
     "name": "stdout",
     "output_type": "stream",
     "text": [
      "Nr of rows in train: 178360\n",
      "Nr. users in train: 10000\n",
      "Nr. products in train: 1038\n"
     ]
    }
   ],
   "source": [
    "print(\"Nr of rows in train: {}\".format(len(train2)))\n",
    "print(\"Nr. users in train: {}\".format(len(train2[\"user_id\"].unique())))\n",
    "print(\"Nr. products in train: {}\".format(len(train2[\"product_id\"].unique())))"
   ]
  },
  {
   "cell_type": "markdown",
   "metadata": {},
   "source": [
    "### Save to csv"
   ]
  },
  {
   "cell_type": "code",
   "execution_count": 30,
   "metadata": {},
   "outputs": [],
   "source": [
    "cols = [\"event_time\",\"event_type\",\"product_id\",\"category_id\",\"category_code\",\"brand\",\n",
    "       \"price\",\"user_id\"]\n",
    "train2.loc[:,\"event_time\"]= pd.to_datetime(train2.loc[:,\"event_time\"])\n",
    "train2[cols].to_csv(os.path.join(data_folder, \"2019-Nov-sample-train-eletronics-purch-view-10kusers.csv\"), header=False)\n"
   ]
  },
  {
   "cell_type": "markdown",
   "metadata": {},
   "source": [
    "### For third recommender (purchase, view, cart): consider the top n users above and their purchases,views, carts"
   ]
  },
  {
   "cell_type": "code",
   "execution_count": 31,
   "metadata": {},
   "outputs": [],
   "source": [
    "df_el_p_v_c = df_el[(df_el[\"user_id\"].isin(top_n))]"
   ]
  },
  {
   "cell_type": "code",
   "execution_count": 32,
   "metadata": {},
   "outputs": [
    {
     "name": "stdout",
     "output_type": "stream",
     "text": [
      "Nr. users: 10000\n",
      "Nr. products: 1039\n"
     ]
    }
   ],
   "source": [
    "print(\"Nr. users: {}\".format(len(df_el_p_v_c[\"user_id\"].unique())))\n",
    "print(\"Nr. products: {}\".format(len(df_el_p_v_c[\"product_id\"].unique())))"
   ]
  },
  {
   "cell_type": "markdown",
   "metadata": {},
   "source": [
    "### Split train/test: use test set from previous recommender use all other purchase and views for train "
   ]
  },
  {
   "cell_type": "code",
   "execution_count": 33,
   "metadata": {},
   "outputs": [],
   "source": [
    "test = pd.read_csv(os.path.join(data_folder, \"2019-Nov-sample-test-eletronics-purch-10kusers.csv\"),\n",
    "                   names=df_el_p_v.columns)"
   ]
  },
  {
   "cell_type": "code",
   "execution_count": 34,
   "metadata": {},
   "outputs": [],
   "source": [
    "merge_on = [\"product_id\",\"user_id\"]\n",
    "train3 = df_el_p_v_c.merge(test[merge_on], on=merge_on, how=\"left\", indicator=True)\n",
    "# exclude user-product that are already in the test set (indipendent from the event type)\n",
    "train3 = train3[train3[\"_merge\"]==\"left_only\"].drop(columns=\"_merge\")"
   ]
  },
  {
   "cell_type": "code",
   "execution_count": 35,
   "metadata": {},
   "outputs": [
    {
     "name": "stdout",
     "output_type": "stream",
     "text": [
      "Nr of rows in train: 227076\n",
      "Nr. users in train: 10000\n",
      "Nr. products in train: 1038\n"
     ]
    }
   ],
   "source": [
    "print(\"Nr of rows in train: {}\".format(len(train3)))\n",
    "print(\"Nr. users in train: {}\".format(len(train3[\"user_id\"].unique())))\n",
    "print(\"Nr. products in train: {}\".format(len(train3[\"product_id\"].unique())))"
   ]
  },
  {
   "cell_type": "markdown",
   "metadata": {},
   "source": [
    "### Save to csv"
   ]
  },
  {
   "cell_type": "code",
   "execution_count": 36,
   "metadata": {},
   "outputs": [],
   "source": [
    "cols = [\"event_time\",\"event_type\",\"product_id\",\"category_id\",\"category_code\",\"brand\",\n",
    "       \"price\",\"user_id\"]\n",
    "train3.loc[:,\"event_time\"]= pd.to_datetime(train3.loc[:,\"event_time\"])\n",
    "train3[cols].to_csv(os.path.join(data_folder, \"2019-Nov-sample-train-eletronics-purch-view-cart-10kusers.csv\"), header=False)\n"
   ]
  }
 ],
 "metadata": {
  "kernelspec": {
   "display_name": "Python 3",
   "language": "python",
   "name": "python3"
  },
  "language_info": {
   "codemirror_mode": {
    "name": "ipython",
    "version": 3
   },
   "file_extension": ".py",
   "mimetype": "text/x-python",
   "name": "python",
   "nbconvert_exporter": "python",
   "pygments_lexer": "ipython3",
   "version": "3.8.5"
  }
 },
 "nbformat": 4,
 "nbformat_minor": 2
}
